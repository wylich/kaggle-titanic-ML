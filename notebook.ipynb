{
 "cells": [
  {
   "cell_type": "markdown",
   "id": "05f489e2",
   "metadata": {},
   "source": [
    "### Structure\n",
    "1. Understanding the problem\n",
    "2. Exploratory Data Analysis (EDA) & visualization\n",
    "3. Model training, tuning & evaluation\n",
    "4. Upload"
   ]
  },
  {
   "cell_type": "markdown",
   "id": "8a04cccc",
   "metadata": {},
   "source": [
    "### 1. Understanding the problem"
   ]
  },
  {
   "cell_type": "markdown",
   "id": "ab4cfdc1",
   "metadata": {},
   "source": [
    "**Goal:** It is your job to predict if a passenger survived the sinking of the Titanic or not.\n",
    "For each in the test set, you must predict a 0 or 1 value for the variable.\n",
    "\n",
    "**Metric:**\n",
    "Your score is the percentage of passengers you correctly predict. This is known as accuracy.\n",
    "\n",
    "**Submission File Format:**\n",
    "You should submit a csv file with exactly 418 entries plus a header row. Your submission will show an error if you have extra columns (beyond PassengerId and Survived) or rows.\n",
    "\n",
    "The file should have exactly 2 columns:\n",
    "- PassengerId (sorted in any order)\n",
    "- Survived (contains your binary predictions: 1 for survived, 0 for deceased)"
   ]
  },
  {
   "cell_type": "markdown",
   "id": "08b373a9",
   "metadata": {
    "vscode": {
     "languageId": "plaintext"
    }
   },
   "source": [
    "### 2. EDA"
   ]
  },
  {
   "cell_type": "markdown",
   "id": "5d421cd5",
   "metadata": {
    "vscode": {
     "languageId": "plaintext"
    }
   },
   "source": [
    "#### 2.0 Data loading & exploration"
   ]
  },
  {
   "cell_type": "code",
   "execution_count": null,
   "id": "402a479b",
   "metadata": {},
   "outputs": [],
   "source": [
    "# Load libraries & datasets\n",
    "import os\n",
    "import numpy as np\n",
    "import pandas as pd\n",
    "import matplotlib.pyplot as plt\n",
    "import seaborn as sns\n",
    "\n",
    "from sklearn.model_selection import train_test_split\n"
   ]
  },
  {
   "cell_type": "code",
   "execution_count": null,
   "id": "7f0ac28c",
   "metadata": {},
   "outputs": [],
   "source": [
    "def concat_dfs(df_train, df_test):\n",
    "    ''' Concatenate train and test dataframes'''\n",
    "    df_all = pd.concat([df_train, df_test], axis=0, ignore_index=True)\n",
    "    return df_all\n",
    "\n",
    "def split_dfs(df_all, train_size=891):\n",
    "    ''' Split concatenated dataframe back to train and test dataframes'''\n",
    "    df_train = df_all.iloc[:train_size, :].copy()\n",
    "    df_train['Survived'] = df_train['Survived'].astype(int)  # Ensure 'Survived' is int\n",
    "    df_test = df_all.iloc[train_size:, :].copy()\n",
    "    return df_train, df_test\n",
    "\n",
    "df_train = pd.read_csv('data/train.csv')\n",
    "df_test = pd.read_csv('data/test.csv')\n",
    "\n",
    "df_all = concat_dfs(df_train, df_test)"
   ]
  },
  {
   "cell_type": "code",
   "execution_count": null,
   "id": "c29b0a5a",
   "metadata": {},
   "outputs": [],
   "source": [
    "df_all.head()"
   ]
  },
  {
   "cell_type": "markdown",
   "id": "dce5df19",
   "metadata": {},
   "source": [
    "* `PassengerId` is the unique id of the row and it doesn't have any effect on target\n",
    "* `Survived` is the target variable we are trying to predict (0 or 1):\n",
    "* **1 = Survived**\n",
    "* **0 = Not Survived**\n",
    "* `Pclass` (Passenger Class) is the socio-economic status of the passenger and it is a categorical ordinal feature which has **3** unique values (**1**, **2** or **3**):\n",
    "- **1 = Upper Class**\n",
    "- **2 = Middle Class**\n",
    "- **3 = Lower Class**\n",
    "- `Name`, `Sex` and `Age` are self-explanatory\n",
    "- `SibSp` is the total number of the passengers' siblings and spouse\n",
    "- `Parch` is the total number of the passengers' parents and children\n",
    "- `Ticket` is the ticket number of the passenger\n",
    "- `Fare` is the passenger fare\n",
    "- `Cabin` is the cabin number of the passenger\n",
    "- `Embarked` is port of embarkation and it is a categorical feature which has 3 unique values (C, Q or S):\n",
    "- **C = Cherbourg**\n",
    "- **Q = Queenstown**\n",
    "- **S = Southampton**"
   ]
  },
  {
   "cell_type": "code",
   "execution_count": null,
   "id": "f945b30a",
   "metadata": {},
   "outputs": [],
   "source": [
    "df_train.info()"
   ]
  },
  {
   "cell_type": "code",
   "execution_count": null,
   "id": "53701eea",
   "metadata": {},
   "outputs": [],
   "source": [
    "df_test.info()"
   ]
  },
  {
   "cell_type": "code",
   "execution_count": null,
   "id": "15f755d0",
   "metadata": {},
   "outputs": [],
   "source": [
    "df_all['Sex'].value_counts()"
   ]
  },
  {
   "cell_type": "code",
   "execution_count": null,
   "id": "d0335ea2",
   "metadata": {},
   "outputs": [],
   "source": [
    "# survival rate of women vs men\n",
    "female_survival_rate = df_train.loc[df_train['Sex'] == 'female', 'Survived'].mean().round(4)\n",
    "male_survival_rate = df_train.loc[df_train['Sex'] == 'male', 'Survived'].mean().round(4)\n",
    "print(f\"Female survival rate: {female_survival_rate}\")\n",
    "print(f\"Male survival rate: {male_survival_rate}\")"
   ]
  },
  {
   "cell_type": "code",
   "execution_count": null,
   "id": "fe38244e",
   "metadata": {},
   "outputs": [],
   "source": [
    "# Plotting a stacked age distribtion histogram on condition of survived or not\n",
    "plt.figure(figsize=(10, 6))\n",
    "sns.histplot(data=df_train, x='Age', hue='Survived', multiple='layer', bins=40)\n",
    "plt.title('Age Distribution by Survival Status')"
   ]
  },
  {
   "cell_type": "markdown",
   "id": "cd815e28",
   "metadata": {},
   "source": [
    "### 2.1 Missing Values\n",
    "As seen below, some columns are missing values. Our function below shows the missing amounts and percentages in each of df_train and df_test.\n",
    "- Training set is missing data on `Age`, `Embarked`, and `Cabin`.\n",
    "- Test set is missing data on `Age`, `Fare`, and `Cabin` (and natually the target variable `Survived`).\n",
    "\n",
    "It's convenient to treat the training and test sets as a total set when dealing with missing values, otherwise filled data may overfit to the respective set samples.\n",
    "\n",
    "The count of missing values in `Embarked` and `Fare` are less than one percent. But `Age` is missing around 20% and `Cabin` is missing around 80%.\n",
    "\n",
    "Missing values in `Embarked`, `Fare` and `Age` can be inferred with descriptive statistical methods, but this will not work for `Cabin`.\n",
    "\n"
   ]
  },
  {
   "cell_type": "code",
   "execution_count": null,
   "id": "aeccde74",
   "metadata": {},
   "outputs": [],
   "source": [
    "def display_missing(df):\n",
    "    ''' Display missing values in dataframe'''\n",
    "    total = df.isnull().sum()\n",
    "    percent = (df.isnull().sum()/df.isnull().count()).round(4)\n",
    "    missing_data = pd.concat([total, percent], axis=1, keys=['Total', 'Percent'])\n",
    "    return missing_data\n",
    "\n",
    "for df in [df_train, df_test]:\n",
    "    print(display_missing(df))"
   ]
  },
  {
   "cell_type": "code",
   "execution_count": null,
   "id": "f3c78729",
   "metadata": {},
   "outputs": [],
   "source": [
    "df_all.isnull().sum().sort_values(ascending=False)"
   ]
  },
  {
   "cell_type": "markdown",
   "id": "327fd18d",
   "metadata": {},
   "source": [
    "**2.1.1 Age**\n",
    "\n",
    "We first find out the correlation coefficient between `Age` and other numerical features. "
   ]
  },
  {
   "cell_type": "code",
   "execution_count": null,
   "id": "c87acf33",
   "metadata": {},
   "outputs": [],
   "source": [
    "# Correlations between numerical features in dataframe df_all\n",
    "df_all_corr = df_all.select_dtypes(include=[np.number]).corr().unstack().sort_values(ascending=False).reset_index()\n",
    "df_all_corr.columns = ['Feature_1', 'Feature_2', 'Correlation']\n",
    "df_all_corr[df_all_corr['Feature_1'] == 'Age']"
   ]
  },
  {
   "cell_type": "code",
   "execution_count": null,
   "id": "7b809d1d",
   "metadata": {},
   "outputs": [],
   "source": [
    "df_all.info()"
   ]
  },
  {
   "cell_type": "markdown",
   "id": "2dc02a6e",
   "metadata": {},
   "source": [
    "In order to increase accuracy, the `Sex` feature is included as the second level of groupby after `Pclass` when filling the missing `Age` values."
   ]
  },
  {
   "cell_type": "code",
   "execution_count": null,
   "id": "b903a54b",
   "metadata": {},
   "outputs": [],
   "source": [
    "# Print median age by Pclass and Sex\n",
    "for (key, value) in df_all.groupby(['Pclass', 'Sex'])['Age'].median().items():\n",
    "    print(f\"Median age for Pclass {key[0]}, {key[1]}: {value}\")\n",
    "\n",
    "# plot pclass, sex, and median age on a bar chart\n",
    "df_age_pclass_sex = df_all.groupby(['Pclass', 'Sex'])['Age'].median().unstack()\n",
    "df_age_pclass_sex.plot(kind='bar', figsize=(4, 3))"
   ]
  },
  {
   "cell_type": "code",
   "execution_count": null,
   "id": "cc75bf9b",
   "metadata": {},
   "outputs": [],
   "source": [
    "# filling the median age for each Pclass and Sex\n",
    "df_all['Age'] = df_all.groupby(['Pclass', 'Sex'])['Age'].transform(lambda x: x.fillna(x.median()))"
   ]
  },
  {
   "cell_type": "markdown",
   "id": "319f190b",
   "metadata": {},
   "source": [
    "**2.1.2 Embarked**\n",
    "\n",
    "A categorical feature that is only missing 2 entries. A [Google search](https://www.encyclopedia-titanica.org/titanic-survivor/martha-evelyn-stone.html) shows they embarked in **Southampton**."
   ]
  },
  {
   "cell_type": "code",
   "execution_count": null,
   "id": "c84f1411",
   "metadata": {},
   "outputs": [],
   "source": [
    "df_all[df_all['Embarked'].isnull()]"
   ]
  },
  {
   "cell_type": "code",
   "execution_count": null,
   "id": "d4670f28",
   "metadata": {},
   "outputs": [],
   "source": [
    "# filling the missing Embarked values with 'S' (Southampton)\n",
    "df_all['Embarked'] = df_all['Embarked'].fillna('S')"
   ]
  },
  {
   "cell_type": "markdown",
   "id": "d0d6d188",
   "metadata": {},
   "source": [
    "**2.1.3 Fare**\n",
    "\n",
    "The one person missing fare information is a Male with no Family, a unique Ticket and no Cabin. We take this fare as the mean Fare of similar persons."
   ]
  },
  {
   "cell_type": "code",
   "execution_count": null,
   "id": "f35ce1a6",
   "metadata": {},
   "outputs": [],
   "source": [
    "# boolean logic to find out if which tickets are unique in df_all\n",
    "unique_tickets = df_all['Ticket'].value_counts()\n",
    "df_all['IsUniqueTicket'] = df_all['Ticket'].map(lambda x: unique_tickets[x] == 1)\n",
    "\n",
    "# Now we filter for our desired rows\n",
    "mask = ((df_all['Pclass'] == 3) & \n",
    "        (df_all['SibSp'] == 0) & \n",
    "        (df_all['Parch'] == 0) & \n",
    "        (df_all['Sex'] == 'male') & \n",
    "        (df_all['IsUniqueTicket']) &\n",
    "        (df_all['Cabin'].isnull())\n",
    "        )\n",
    "\n",
    "df_all.loc[mask, 'Fare'].describe()"
   ]
  },
  {
   "cell_type": "code",
   "execution_count": null,
   "id": "1f308445",
   "metadata": {},
   "outputs": [],
   "source": [
    "mean_fare = df_all.loc[mask, 'Fare'].mean()\n",
    "df_all.loc[df_all['Fare'].isnull(), 'Fare'] = mean_fare"
   ]
  },
  {
   "cell_type": "markdown",
   "id": "aa29b672",
   "metadata": {},
   "source": [
    "**2.1.4 Cabin** \n",
    "\n",
    "We extract the Deck from each Cabin. Null-values are filled with 'Z' and the single 'T' value is replaced with 'Z'."
   ]
  },
  {
   "cell_type": "code",
   "execution_count": null,
   "id": "6b58faa1",
   "metadata": {},
   "outputs": [],
   "source": [
    "df_all['Deck'] = df_all['Cabin'].str[0].fillna('Z')\n",
    "# Change all 'T' to 'Z' since there is only one 'T'\n",
    "df_all['Deck'] = df_all['Deck'].replace('T', 'Z')"
   ]
  },
  {
   "cell_type": "code",
   "execution_count": null,
   "id": "5af8e794",
   "metadata": {},
   "outputs": [],
   "source": [
    "# plot survival rate by Deck\n",
    "df_train, df_test = split_dfs(df_all)\n",
    "deck_survival_rate = df_train.groupby('Deck')['Survived'].mean()\n",
    "deck_survival_rate.plot(kind='bar', figsize=(6, 4))\n",
    "plt.yticks(np.arange(0, 1.1, 0.1))\n",
    "plt.ylabel('Survival Rate')"
   ]
  },
  {
   "cell_type": "code",
   "execution_count": null,
   "id": "f6a9ae06",
   "metadata": {},
   "outputs": [],
   "source": [
    "fig, axs = plt.subplots(nrows=2, figsize=(10, 10))\n",
    "\n",
    "sns.heatmap(df_train.select_dtypes(include=np.number).drop(['PassengerId'], axis=1).corr(), ax=axs[0], annot=True, square=True, cmap='coolwarm', annot_kws={'size': 10})\n",
    "sns.heatmap(df_test.select_dtypes(include=np.number).drop(['PassengerId'], axis=1).drop(['Survived'], axis=1).corr(), ax=axs[1], annot=True, square=True, cmap='coolwarm', annot_kws={'size': 10})\n",
    "\n",
    "for i in range(2):    \n",
    "    axs[i].tick_params(axis='x', labelsize=10)\n",
    "    axs[i].tick_params(axis='y', labelsize=10)\n",
    "    axs[i].set_yticklabels(axs[i].get_yticklabels(), rotation=0)\n",
    "\n",
    "axs[0].set_title('Training Set Correlations', size=10)\n",
    "axs[1].set_title('Test Set Correlations', size=10)\n",
    "\n",
    "plt.show()"
   ]
  },
  {
   "cell_type": "markdown",
   "id": "62606759",
   "metadata": {},
   "source": [
    "### 2.2 Feature engineering"
   ]
  },
  {
   "cell_type": "markdown",
   "id": "3f51b6eb",
   "metadata": {},
   "source": [
    "**2.2.1 Title**\n",
    "\n",
    "We extract title from name and use as feature."
   ]
  },
  {
   "cell_type": "code",
   "execution_count": null,
   "id": "afde31ba",
   "metadata": {},
   "outputs": [],
   "source": [
    "df_all['Title'] = df_all['Name'].str.split(', ', expand=True)[1].str.split('.', expand=True)[0]"
   ]
  },
  {
   "cell_type": "code",
   "execution_count": null,
   "id": "d241ef68",
   "metadata": {},
   "outputs": [],
   "source": [
    "df_all['Title'].value_counts().plot(kind='bar')"
   ]
  },
  {
   "cell_type": "code",
   "execution_count": null,
   "id": "d33c1f3b",
   "metadata": {},
   "outputs": [],
   "source": [
    "df_all['Title'] = df_all['Title'].replace({'Dona': 'Miss', 'Mlle': 'Miss', 'Ms': 'Miss', 'Mme': 'Mrs', 'Lady': 'Nobility', 'Countess': 'Nobility', 'the Countess': 'Nobility', 'Don': 'Nobility', 'Capt': 'Officer', 'Col': 'Officer', 'Major': 'Officer', 'Dr': 'Officer', 'Rev': 'Clergy', 'Sir': 'Nobility', 'Jonkheer': 'Nobility'})"
   ]
  },
  {
   "cell_type": "code",
   "execution_count": null,
   "id": "dfaf78e7",
   "metadata": {},
   "outputs": [],
   "source": [
    "df_all['Title'].value_counts()"
   ]
  },
  {
   "cell_type": "code",
   "execution_count": null,
   "id": "727993f5",
   "metadata": {},
   "outputs": [],
   "source": [
    "# plot survival rate by title\n",
    "df_train, df_test = split_dfs(df_all)\n",
    "\n",
    "plt.figure(figsize=(10, 6))\n",
    "sns.barplot(x='Title', y='Survived', data=df_train, errorbar=(\"ci\",95))\n",
    "plt.title('Survival Rate by Title')"
   ]
  },
  {
   "cell_type": "markdown",
   "id": "a0ad3b8f",
   "metadata": {},
   "source": [
    "**2.2.2 Married status**\n",
    "\n",
    "Underlining the difference between married and unmarried women, although this may be captured in the `Title` feature."
   ]
  },
  {
   "cell_type": "code",
   "execution_count": null,
   "id": "f96160ef",
   "metadata": {},
   "outputs": [],
   "source": [
    "df_all['IsMarried'] = df_all['Title'].apply(lambda x: 1 if x in ['Mrs'] else 0)"
   ]
  },
  {
   "cell_type": "code",
   "execution_count": null,
   "id": "b53e626a",
   "metadata": {},
   "outputs": [],
   "source": [
    "sns.barplot(x='Title', y='Survived', hue='IsMarried', data=df_all, alpha=0.7)"
   ]
  },
  {
   "cell_type": "markdown",
   "id": "c7b12403",
   "metadata": {},
   "source": [
    "**2.2.3 FamilySize**\n",
    "\n",
    "Calculating family size as Siblings and Spouse + Children and Parents + 1 for self"
   ]
  },
  {
   "cell_type": "code",
   "execution_count": null,
   "id": "ddc2cb27",
   "metadata": {},
   "outputs": [],
   "source": [
    "df_all['FamilySize'] = df_all['SibSp'] + df_all['Parch'] + 1"
   ]
  },
  {
   "cell_type": "markdown",
   "id": "e556ad79",
   "metadata": {},
   "source": [
    "**2.2.4 Fare pr. person**"
   ]
  },
  {
   "cell_type": "code",
   "execution_count": null,
   "id": "09ec8628",
   "metadata": {},
   "outputs": [],
   "source": [
    "df_all['FarePrPerson'] = df_all['Fare'] / df_all['FamilySize']"
   ]
  },
  {
   "cell_type": "markdown",
   "id": "ea5722b6",
   "metadata": {},
   "source": [
    "**2.2.5 Surname**"
   ]
  },
  {
   "cell_type": "code",
   "execution_count": null,
   "id": "bf9b0b30",
   "metadata": {},
   "outputs": [],
   "source": [
    "df_all['Surname'] = df_all['Name'].apply(lambda x: x.split(', ')[0])\n",
    "df_all[df_all['FamilySize'] > 4].sort_values(by=['FamilySize','Surname','Title', 'Parch'], ascending=False)[\n",
    "    ['Surname', 'Name', 'Title', 'Ticket', 'FamilySize', 'SibSp','Parch', 'Age', 'Fare', 'Deck', 'Survived',]][61:90]"
   ]
  },
  {
   "cell_type": "markdown",
   "id": "f54a3d79",
   "metadata": {},
   "source": [
    "### 3. Model training"
   ]
  },
  {
   "cell_type": "code",
   "execution_count": null,
   "id": "1280beed",
   "metadata": {},
   "outputs": [],
   "source": [
    "df_train, df_test = split_dfs(df_all)"
   ]
  },
  {
   "cell_type": "code",
   "execution_count": null,
   "id": "8c67e612",
   "metadata": {},
   "outputs": [],
   "source": [
    "df_all.columns"
   ]
  },
  {
   "cell_type": "code",
   "execution_count": null,
   "id": "1cd9c4bb",
   "metadata": {},
   "outputs": [],
   "source": [
    "# random forest classifier with more features\n",
    "from sklearn.ensemble import RandomForestClassifier\n",
    "\n",
    "# Drop columns not needed\n",
    "drop_cols = ['Name', 'Cabin']\n",
    "df_all_drop = df_all.drop(columns=drop_cols)\n",
    "df_train, df_test = split_dfs(df_all_drop)\n",
    "\n",
    "# Only one-hot encode categorical columns\n",
    "categorical_cols = df_train.select_dtypes(include=['object', 'category']).columns\n",
    "X = pd.get_dummies(df_train, columns=categorical_cols)\n",
    "X_test = pd.get_dummies(df_test, columns=categorical_cols)\n",
    "\n",
    "# Align columns in train and test\n",
    "X, X_test = X.align(X_test, join='left', axis=1, fill_value=0)\n",
    "\n",
    "y = df_train['Survived']\n",
    "\n",
    "model = RandomForestClassifier(n_estimators=1000, max_depth=5, n_jobs=12, min_samples_leaf=3, random_state=1)\n",
    "model.fit(X, y)\n",
    "predictions = model.predict(X_test)\n",
    "\n",
    "output = pd.DataFrame({'PassengerId': df_test.PassengerId, 'Survived': predictions})\n",
    "output.to_csv('models/rf_submission.csv', index=False)"
   ]
  },
  {
   "cell_type": "code",
   "execution_count": null,
   "id": "61d67aba",
   "metadata": {},
   "outputs": [],
   "source": [
    "# plot model decision tree\n",
    "from sklearn.tree import plot_tree\n",
    "import matplotlib.pyplot as plt\n",
    "\n",
    "plt.figure(figsize=(20,10))\n",
    "plot_tree(model.estimators_[0], feature_names=list(X.columns), filled=True)\n",
    "plt.show()"
   ]
  },
  {
   "cell_type": "code",
   "execution_count": null,
   "id": "4e2e23b1",
   "metadata": {},
   "outputs": [],
   "source": [
    "# xgboost classifier\n",
    "import xgboost as xgb\n",
    "\n",
    "y = df_train[\"Survived\"]\n",
    "features = [\"Pclass\", \"Sex\", \"SibSp\", \"Parch\", \"Age\", \"Fare\"]\n",
    "\n",
    "X = pd.get_dummies(df_train[features])\n",
    "X_test = pd.get_dummies(df_test[features])\n",
    "\n",
    "model = xgb.XGBClassifier(n_estimators=1000, max_depth=5, random_state=1)\n",
    "model.fit(X, y)\n",
    "\n",
    "predictions = model.predict(X_test)\n",
    "output = pd.DataFrame({'PassengerId': df_test.PassengerId, 'Survived': predictions})\n",
    "output.to_csv('models/xgb_submission.csv', index=False)"
   ]
  }
 ],
 "metadata": {
  "kernelspec": {
   "display_name": "kaggle-titanic-ml",
   "language": "python",
   "name": "python3"
  },
  "language_info": {
   "codemirror_mode": {
    "name": "ipython",
    "version": 3
   },
   "file_extension": ".py",
   "mimetype": "text/x-python",
   "name": "python",
   "nbconvert_exporter": "python",
   "pygments_lexer": "ipython3",
   "version": "3.13.2"
  }
 },
 "nbformat": 4,
 "nbformat_minor": 5
}
