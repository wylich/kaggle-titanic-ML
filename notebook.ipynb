{
 "cells": [
  {
   "cell_type": "markdown",
   "id": "05f489e2",
   "metadata": {},
   "source": [
    "### Structure\n",
    "1. Understanding the problem\n",
    "2. Exploratory Data Analysis (EDA) & visualization\n",
    "3. Model training, tuning & evaluation\n",
    "4. Upload"
   ]
  },
  {
   "cell_type": "markdown",
   "id": "8a04cccc",
   "metadata": {},
   "source": [
    "### 1. Understanding the problem"
   ]
  },
  {
   "cell_type": "markdown",
   "id": "ab4cfdc1",
   "metadata": {},
   "source": [
    "**Goal:** It is your job to predict if a passenger survived the sinking of the Titanic or not.\n",
    "For each in the test set, you must predict a 0 or 1 value for the variable.\n",
    "\n",
    "**Metric:**\n",
    "Your score is the percentage of passengers you correctly predict. This is known as accuracy.\n",
    "\n",
    "**Submission File Format:**\n",
    "You should submit a csv file with exactly 418 entries plus a header row. Your submission will show an error if you have extra columns (beyond PassengerId and Survived) or rows.\n",
    "\n",
    "The file should have exactly 2 columns:\n",
    "- PassengerId (sorted in any order)\n",
    "- Survived (contains your binary predictions: 1 for survived, 0 for deceased)"
   ]
  },
  {
   "cell_type": "markdown",
   "id": "08b373a9",
   "metadata": {
    "vscode": {
     "languageId": "plaintext"
    }
   },
   "source": [
    "### 2. EDA"
   ]
  },
  {
   "cell_type": "markdown",
   "id": "5d421cd5",
   "metadata": {
    "vscode": {
     "languageId": "plaintext"
    }
   },
   "source": [
    "#### 2.1 Data loading & exploration"
   ]
  },
  {
   "cell_type": "code",
   "execution_count": null,
   "id": "402a479b",
   "metadata": {},
   "outputs": [],
   "source": [
    "# Load libraries & datasets\n",
    "import os\n",
    "import numpy as np\n",
    "import pandas as pd\n",
    "import matplotlib.pyplot as plt\n",
    "import seaborn as sns\n",
    "\n",
    "from sklearn.model_selection import train_test_split\n"
   ]
  },
  {
   "cell_type": "code",
   "execution_count": null,
   "id": "7f0ac28c",
   "metadata": {},
   "outputs": [],
   "source": [
    "train = pd.read_csv('data/train.csv')\n",
    "test = pd.read_csv('data/test.csv')"
   ]
  },
  {
   "cell_type": "code",
   "execution_count": null,
   "id": "c29b0a5a",
   "metadata": {},
   "outputs": [],
   "source": [
    "train.head()"
   ]
  },
  {
   "cell_type": "code",
   "execution_count": null,
   "id": "15f755d0",
   "metadata": {},
   "outputs": [],
   "source": [
    "train['Sex'].value_counts()"
   ]
  },
  {
   "cell_type": "code",
   "execution_count": null,
   "id": "d0335ea2",
   "metadata": {},
   "outputs": [],
   "source": [
    "# survival rate of women vs men\n",
    "female_survival_rate = train.loc[train['Sex'] == 'female', 'Survived'].mean().round(4)\n",
    "male_survival_rate = train.loc[train['Sex'] == 'male', 'Survived'].mean().round(4)\n",
    "print(f\"Female survival rate: {female_survival_rate}\")\n",
    "print(f\"Male survival rate: {male_survival_rate}\")"
   ]
  },
  {
   "cell_type": "code",
   "execution_count": null,
   "id": "fe38244e",
   "metadata": {},
   "outputs": [],
   "source": [
    "# Plotting a stacked age distribtion histogram on condition of survived or not\n",
    "plt.figure(figsize=(10, 6))\n",
    "sns.histplot(data=train, x='Age', hue='Survived', multiple='stack', bins=30)\n",
    "plt.title('Age Distribution by Survival Status')"
   ]
  },
  {
   "cell_type": "code",
   "execution_count": null,
   "id": "058ef8dc",
   "metadata": {},
   "outputs": [],
   "source": [
    "# Plotting a stacked fare distribtion histogram on condition of survived or not on a logarithmic scale\n",
    "plt.figure(figsize=(10, 6))\n",
    "plt.hist([train[train['Survived'] == 0]['Fare'], train[train['Survived'] == 1]['Fare']], stacked=False, color=['red', 'green'], bins=30, label=['Not Survived', 'Survived'])\n",
    "plt.title('Stacked Fare Distribution by Survival')\n",
    "plt.xlabel('Fare')\n",
    "plt.ylabel('Number of Passengers')\n",
    "plt.yscale('log')\n",
    "plt.legend()\n",
    "plt.show()"
   ]
  },
  {
   "cell_type": "code",
   "execution_count": null,
   "id": "1cd9c4bb",
   "metadata": {},
   "outputs": [],
   "source": [
    "# random forest classifier with more features\n",
    "from sklearn.ensemble import RandomForestClassifier\n",
    "\n",
    "y = train[\"Survived\"]\n",
    "features = [\"Pclass\", \"Sex\", \"SibSp\", \"Parch\", \"Age\", \"Fare\"]\n",
    "\n",
    "X = pd.get_dummies(train[features])\n",
    "X_test = pd.get_dummies(test[features])\n",
    "\n",
    "model = RandomForestClassifier(n_estimators=100, max_depth=5, random_state=1)\n",
    "model.fit(X, y)\n",
    "predictions = model.predict(X_test)\n",
    "\n",
    "output = pd.DataFrame({'PassengerId': test.PassengerId, 'Survived': predictions})\n",
    "output.to_csv('data/rf_submission.csv', index=False)"
   ]
  },
  {
   "cell_type": "code",
   "execution_count": null,
   "id": "61d67aba",
   "metadata": {},
   "outputs": [],
   "source": [
    "# plot model decision tree\n",
    "from sklearn.tree import plot_tree\n",
    "import matplotlib.pyplot as plt\n",
    "\n",
    "plt.figure(figsize=(20,10))\n",
    "plot_tree(model.estimators_[0], feature_names=list(X.columns), filled=True)\n",
    "plt.show()"
   ]
  }
 ],
 "metadata": {
  "kernelspec": {
   "display_name": "kaggle-titanic-ml",
   "language": "python",
   "name": "python3"
  },
  "language_info": {
   "codemirror_mode": {
    "name": "ipython",
    "version": 3
   },
   "file_extension": ".py",
   "mimetype": "text/x-python",
   "name": "python",
   "nbconvert_exporter": "python",
   "pygments_lexer": "ipython3",
   "version": "3.13.2"
  }
 },
 "nbformat": 4,
 "nbformat_minor": 5
}
